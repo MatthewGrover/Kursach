{
 "cells": [
  {
   "cell_type": "code",
   "execution_count": 1,
   "metadata": {},
   "outputs": [],
   "source": [
    "# Зависимости\n",
    "import pandas as pd\n",
    "import numpy as np\n",
    "import matplotlib.pyplot as plt\n",
    "import random\n",
    "\n",
    "from sklearn.model_selection import train_test_split\n",
    "from sklearn.preprocessing import MinMaxScaler\n",
    "from sklearn.compose import ColumnTransformer\n",
    "\n",
    "from sklearn.ensemble import GradientBoostingRegressor\n",
    "from sklearn.model_selection import GridSearchCV\n",
    "from sklearn.neighbors import KNeighborsRegressor\n",
    "\n",
    "from sklearn.metrics import mean_squared_error, f1_score"
   ]
  },
  {
   "cell_type": "code",
   "execution_count": 2,
   "metadata": {},
   "outputs": [
    {
     "data": {
      "text/html": [
       "<div>\n",
       "<style scoped>\n",
       "    .dataframe tbody tr th:only-of-type {\n",
       "        vertical-align: middle;\n",
       "    }\n",
       "\n",
       "    .dataframe tbody tr th {\n",
       "        vertical-align: top;\n",
       "    }\n",
       "\n",
       "    .dataframe thead th {\n",
       "        text-align: right;\n",
       "    }\n",
       "</style>\n",
       "<table border=\"1\" class=\"dataframe\">\n",
       "  <thead>\n",
       "    <tr style=\"text-align: right;\">\n",
       "      <th></th>\n",
       "      <th>year</th>\n",
       "      <th>region</th>\n",
       "      <th>npg</th>\n",
       "      <th>birth_rate</th>\n",
       "      <th>death_rate</th>\n",
       "      <th>gdw</th>\n",
       "      <th>urbanization</th>\n",
       "    </tr>\n",
       "  </thead>\n",
       "  <tbody>\n",
       "    <tr>\n",
       "      <th>0</th>\n",
       "      <td>1990</td>\n",
       "      <td>Republic of Adygea</td>\n",
       "      <td>1.9</td>\n",
       "      <td>14.2</td>\n",
       "      <td>12.3</td>\n",
       "      <td>84.66</td>\n",
       "      <td>52.42</td>\n",
       "    </tr>\n",
       "    <tr>\n",
       "      <th>1</th>\n",
       "      <td>1990</td>\n",
       "      <td>Altai Krai</td>\n",
       "      <td>1.8</td>\n",
       "      <td>12.9</td>\n",
       "      <td>11.1</td>\n",
       "      <td>80.24</td>\n",
       "      <td>58.07</td>\n",
       "    </tr>\n",
       "    <tr>\n",
       "      <th>2</th>\n",
       "      <td>1990</td>\n",
       "      <td>Amur Oblast</td>\n",
       "      <td>7.6</td>\n",
       "      <td>16.2</td>\n",
       "      <td>8.6</td>\n",
       "      <td>69.55</td>\n",
       "      <td>68.37</td>\n",
       "    </tr>\n",
       "    <tr>\n",
       "      <th>3</th>\n",
       "      <td>1990</td>\n",
       "      <td>Arkhangelsk Oblast</td>\n",
       "      <td>3.7</td>\n",
       "      <td>13.5</td>\n",
       "      <td>9.8</td>\n",
       "      <td>73.26</td>\n",
       "      <td>73.63</td>\n",
       "    </tr>\n",
       "    <tr>\n",
       "      <th>4</th>\n",
       "      <td>1990</td>\n",
       "      <td>Astrakhan Oblast</td>\n",
       "      <td>4.7</td>\n",
       "      <td>15.1</td>\n",
       "      <td>10.4</td>\n",
       "      <td>77.05</td>\n",
       "      <td>68.01</td>\n",
       "    </tr>\n",
       "  </tbody>\n",
       "</table>\n",
       "</div>"
      ],
      "text/plain": [
       "   year              region  npg  birth_rate  death_rate    gdw  urbanization\n",
       "0  1990  Republic of Adygea  1.9        14.2        12.3  84.66         52.42\n",
       "1  1990          Altai Krai  1.8        12.9        11.1  80.24         58.07\n",
       "2  1990         Amur Oblast  7.6        16.2         8.6  69.55         68.37\n",
       "3  1990  Arkhangelsk Oblast  3.7        13.5         9.8  73.26         73.63\n",
       "4  1990    Astrakhan Oblast  4.7        15.1        10.4  77.05         68.01"
      ]
     },
     "execution_count": 2,
     "metadata": {},
     "output_type": "execute_result"
    }
   ],
   "source": [
    "# Данные загружены отсюда: https://www.kaggle.com/dwdkills/russian-demography\n",
    "# Читаем данные из файла\n",
    "example_data = pd.read_csv(\"datasets/russian_demography.csv\")\n",
    "example_data.head()"
   ]
  },
  {
   "cell_type": "code",
   "execution_count": 3,
   "metadata": {},
   "outputs": [],
   "source": [
    "# Так как список регионов меняется от года к году, в данных есть строки без значений. Удалим их\n",
    "example_data.dropna(inplace=True)"
   ]
  },
  {
   "cell_type": "code",
   "execution_count": 4,
   "metadata": {},
   "outputs": [
    {
     "name": "stdout",
     "output_type": "stream",
     "text": [
      "463\n"
     ]
    }
   ],
   "source": [
    "val_test_size = round(0.2*len(example_data))\n",
    "print(val_test_size)"
   ]
  },
  {
   "cell_type": "code",
   "execution_count": 5,
   "metadata": {},
   "outputs": [
    {
     "name": "stdout",
     "output_type": "stream",
     "text": [
      "1389 463 463\n"
     ]
    }
   ],
   "source": [
    "train_val, test = train_test_split(example_data, test_size=val_test_size, random_state=1)\n",
    "train, val = train_test_split(train_val, test_size=val_test_size, random_state=1)\n",
    "print(len(train), len(val), len(test))"
   ]
  },
  {
   "cell_type": "code",
   "execution_count": 6,
   "metadata": {},
   "outputs": [
    {
     "data": {
      "text/plain": [
       "ColumnTransformer(remainder='passthrough',\n",
       "                  transformers=[('numerical', MinMaxScaler(),\n",
       "                                 ['year', 'npg', 'birth_rate', 'death_rate',\n",
       "                                  'gdw', 'urbanization'])])"
      ]
     },
     "execution_count": 6,
     "metadata": {},
     "output_type": "execute_result"
    }
   ],
   "source": [
    "# Значения в числовых столбцах преобразуем к отрезку [0,1].\n",
    "# Для настройки скалировщика используем только обучающую выборку.\n",
    "columns_to_scale = ['year', 'npg', 'birth_rate', 'death_rate', 'gdw', 'urbanization']\n",
    "\n",
    "ct = ColumnTransformer(transformers=[('numerical', MinMaxScaler(), columns_to_scale)], remainder='passthrough')\n",
    "ct.fit(train)"
   ]
  },
  {
   "cell_type": "code",
   "execution_count": 7,
   "metadata": {},
   "outputs": [],
   "source": [
    "# Преобразуем значения, тип данных приводим к DataFrame\n",
    "sc_train = pd.DataFrame(ct.transform(train))\n",
    "sc_test = pd.DataFrame(ct.transform(test))\n",
    "sc_val = pd.DataFrame(ct.transform(val))"
   ]
  },
  {
   "cell_type": "code",
   "execution_count": 8,
   "metadata": {},
   "outputs": [],
   "source": [
    "# Устанавливаем названия столбцов\n",
    "column_names = columns_to_scale + ['region']\n",
    "sc_train.columns = column_names\n",
    "sc_test.columns = column_names\n",
    "sc_val.columns = column_names"
   ]
  },
  {
   "cell_type": "code",
   "execution_count": 9,
   "metadata": {},
   "outputs": [],
   "source": [
    "x_labels = column_names[0:-2]\n",
    "y_labels = ['urbanization']\n",
    "\n",
    "x_train = sc_train[x_labels]\n",
    "x_test = sc_test[x_labels]\n",
    "x_val = sc_val[x_labels]\n",
    "\n",
    "y_train = sc_train[y_labels]\n",
    "y_test = sc_test[y_labels]\n",
    "y_val = sc_val[y_labels]"
   ]
  },
  {
   "cell_type": "code",
   "execution_count": 10,
   "metadata": {},
   "outputs": [
    {
     "data": {
      "text/html": [
       "<div>\n",
       "<style scoped>\n",
       "    .dataframe tbody tr th:only-of-type {\n",
       "        vertical-align: middle;\n",
       "    }\n",
       "\n",
       "    .dataframe tbody tr th {\n",
       "        vertical-align: top;\n",
       "    }\n",
       "\n",
       "    .dataframe thead th {\n",
       "        text-align: right;\n",
       "    }\n",
       "</style>\n",
       "<table border=\"1\" class=\"dataframe\">\n",
       "  <thead>\n",
       "    <tr style=\"text-align: right;\">\n",
       "      <th></th>\n",
       "      <th>year</th>\n",
       "      <th>npg</th>\n",
       "      <th>birth_rate</th>\n",
       "      <th>death_rate</th>\n",
       "      <th>gdw</th>\n",
       "    </tr>\n",
       "  </thead>\n",
       "  <tbody>\n",
       "    <tr>\n",
       "      <th>0</th>\n",
       "      <td>0.037037</td>\n",
       "      <td>0.479012</td>\n",
       "      <td>0.337662</td>\n",
       "      <td>0.331776</td>\n",
       "      <td>0.761251</td>\n",
       "    </tr>\n",
       "    <tr>\n",
       "      <th>1</th>\n",
       "      <td>0.62963</td>\n",
       "      <td>0.461728</td>\n",
       "      <td>0.406926</td>\n",
       "      <td>0.439252</td>\n",
       "      <td>0.247437</td>\n",
       "    </tr>\n",
       "    <tr>\n",
       "      <th>2</th>\n",
       "      <td>0.925926</td>\n",
       "      <td>0.224691</td>\n",
       "      <td>0.186147</td>\n",
       "      <td>0.649533</td>\n",
       "      <td>0.691399</td>\n",
       "    </tr>\n",
       "    <tr>\n",
       "      <th>3</th>\n",
       "      <td>0.666667</td>\n",
       "      <td>0.320988</td>\n",
       "      <td>0.238095</td>\n",
       "      <td>0.53271</td>\n",
       "      <td>0.359513</td>\n",
       "    </tr>\n",
       "    <tr>\n",
       "      <th>4</th>\n",
       "      <td>0.481481</td>\n",
       "      <td>0.192593</td>\n",
       "      <td>0.125541</td>\n",
       "      <td>0.64486</td>\n",
       "      <td>0.481668</td>\n",
       "    </tr>\n",
       "    <tr>\n",
       "      <th>...</th>\n",
       "      <td>...</td>\n",
       "      <td>...</td>\n",
       "      <td>...</td>\n",
       "      <td>...</td>\n",
       "      <td>...</td>\n",
       "    </tr>\n",
       "    <tr>\n",
       "      <th>1384</th>\n",
       "      <td>0.111111</td>\n",
       "      <td>0.251852</td>\n",
       "      <td>0.138528</td>\n",
       "      <td>0.546729</td>\n",
       "      <td>0.72424</td>\n",
       "    </tr>\n",
       "    <tr>\n",
       "      <th>1385</th>\n",
       "      <td>0.518519</td>\n",
       "      <td>0.049383</td>\n",
       "      <td>0.142857</td>\n",
       "      <td>0.929907</td>\n",
       "      <td>0.556038</td>\n",
       "    </tr>\n",
       "    <tr>\n",
       "      <th>1386</th>\n",
       "      <td>0.703704</td>\n",
       "      <td>0.160494</td>\n",
       "      <td>0.21645</td>\n",
       "      <td>0.803738</td>\n",
       "      <td>0.487055</td>\n",
       "    </tr>\n",
       "    <tr>\n",
       "      <th>1387</th>\n",
       "      <td>0.333333</td>\n",
       "      <td>0.251852</td>\n",
       "      <td>0.112554</td>\n",
       "      <td>0.518692</td>\n",
       "      <td>0.609209</td>\n",
       "    </tr>\n",
       "    <tr>\n",
       "      <th>1388</th>\n",
       "      <td>0.296296</td>\n",
       "      <td>0.22963</td>\n",
       "      <td>0.08658</td>\n",
       "      <td>0.53271</td>\n",
       "      <td>0.695048</td>\n",
       "    </tr>\n",
       "  </tbody>\n",
       "</table>\n",
       "<p>1389 rows × 5 columns</p>\n",
       "</div>"
      ],
      "text/plain": [
       "          year       npg birth_rate death_rate       gdw\n",
       "0     0.037037  0.479012   0.337662   0.331776  0.761251\n",
       "1      0.62963  0.461728   0.406926   0.439252  0.247437\n",
       "2     0.925926  0.224691   0.186147   0.649533  0.691399\n",
       "3     0.666667  0.320988   0.238095    0.53271  0.359513\n",
       "4     0.481481  0.192593   0.125541    0.64486  0.481668\n",
       "...        ...       ...        ...        ...       ...\n",
       "1384  0.111111  0.251852   0.138528   0.546729   0.72424\n",
       "1385  0.518519  0.049383   0.142857   0.929907  0.556038\n",
       "1386  0.703704  0.160494    0.21645   0.803738  0.487055\n",
       "1387  0.333333  0.251852   0.112554   0.518692  0.609209\n",
       "1388  0.296296   0.22963    0.08658    0.53271  0.695048\n",
       "\n",
       "[1389 rows x 5 columns]"
      ]
     },
     "execution_count": 10,
     "metadata": {},
     "output_type": "execute_result"
    }
   ],
   "source": [
    "x_train"
   ]
  },
  {
   "cell_type": "code",
   "execution_count": 11,
   "metadata": {},
   "outputs": [
    {
     "name": "stdout",
     "output_type": "stream",
     "text": [
      "GridSearchCV(cv=2, estimator=GradientBoostingRegressor(), n_jobs=-1,\n",
      "             param_grid={'max_depth': range(1, 101, 10),\n",
      "                         'n_estimators': range(1, 101, 10)},\n",
      "             refit=False, scoring='accuracy')\n"
     ]
    }
   ],
   "source": [
    "parameters = {\n",
    "    'max_depth':  range(1, 101, 10),\n",
    "    'n_estimators': range(1, 101, 10),\n",
    "}\n",
    "grid = GridSearchCV(GradientBoostingRegressor(), parameters, scoring='accuracy',  refit=False, cv=2, n_jobs=-1)\n",
    "print(grid)"
   ]
  },
  {
   "cell_type": "code",
   "execution_count": null,
   "metadata": {},
   "outputs": [],
   "source": [
    "grid.fit(x_train, y_train)\n",
    "grid.best_params_"
   ]
  },
  {
   "cell_type": "code",
   "execution_count": null,
   "metadata": {},
   "outputs": [],
   "source": [
    "score_list = []\n",
    "model_list = [GradientBoostingRegressor(**grid.best_params_),\n",
    "              KNeighborsRegressor(n_neighbors=5),\n",
    "              KNeighborsRegressor(n_neighbors=10),\n",
    "              KNeighborsRegressor(n_neighbors=15),\n",
    "              KNeighborsRegressor(n_neighbors=20),\n",
    "              KNeighborsRegressor(n_neighbors=25)]\n",
    "for i in range(len(model_list)):\n",
    "    model_list[i].fit(x_train, y_train)\n",
    "    score_list.append(model_list[i].score(x_val, y_val))\n",
    "    print(score_list[i])"
   ]
  },
  {
   "cell_type": "code",
   "execution_count": null,
   "metadata": {},
   "outputs": [],
   "source": [
    "best_model = model_list[score_list.index(max(score_list))]\n",
    "print(best_model)"
   ]
  },
  {
   "cell_type": "code",
   "execution_count": null,
   "metadata": {},
   "outputs": [],
   "source": [
    "test_pred = best_model.predict(x_test)\n",
    "mse = mean_squared_error(y_test, test_pred)\n",
    "print(mse, sep='\\n')"
   ]
  },
  {
   "cell_type": "code",
   "execution_count": null,
   "metadata": {},
   "outputs": [],
   "source": []
  }
 ],
 "metadata": {
  "kernelspec": {
   "display_name": "Python 3",
   "language": "python",
   "name": "python3"
  },
  "language_info": {
   "codemirror_mode": {
    "name": "ipython",
    "version": 3
   },
   "file_extension": ".py",
   "mimetype": "text/x-python",
   "name": "python",
   "nbconvert_exporter": "python",
   "pygments_lexer": "ipython3",
   "version": "3.8.8"
  }
 },
 "nbformat": 4,
 "nbformat_minor": 2
}
